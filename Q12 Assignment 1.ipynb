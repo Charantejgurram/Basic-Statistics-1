{
 "cells": [
  {
   "cell_type": "code",
   "execution_count": 1,
   "id": "f7f6e23a",
   "metadata": {
    "ExecuteTime": {
     "end_time": "2023-04-08T04:22:01.643554Z",
     "start_time": "2023-04-08T04:22:00.926816Z"
    }
   },
   "outputs": [],
   "source": [
    "import pandas as pd \n",
    "import numpy as np"
   ]
  },
  {
   "cell_type": "code",
   "execution_count": 2,
   "id": "e082bce6",
   "metadata": {
    "ExecuteTime": {
     "end_time": "2023-04-08T04:22:08.725825Z",
     "start_time": "2023-04-08T04:22:08.700901Z"
    }
   },
   "outputs": [
    {
     "data": {
      "text/plain": [
       "0     34\n",
       "1     36\n",
       "2     36\n",
       "3     38\n",
       "4     38\n",
       "5     39\n",
       "6     39\n",
       "7     40\n",
       "8     40\n",
       "9     41\n",
       "10    41\n",
       "11    41\n",
       "12    41\n",
       "13    42\n",
       "14    42\n",
       "15    45\n",
       "16    49\n",
       "17    56\n",
       "dtype: int64"
      ]
     },
     "execution_count": 2,
     "metadata": {},
     "output_type": "execute_result"
    }
   ],
   "source": [
    "df = pd .Series([34,36,36,38,38,39,39,40,40,41,41,41,41,42,42,45,49,56])\n",
    "df"
   ]
  },
  {
   "cell_type": "code",
   "execution_count": 3,
   "id": "49016c21",
   "metadata": {
    "ExecuteTime": {
     "end_time": "2023-04-08T04:22:19.737519Z",
     "start_time": "2023-04-08T04:22:19.728490Z"
    }
   },
   "outputs": [
    {
     "data": {
      "text/plain": [
       "pandas.core.series.Series"
      ]
     },
     "execution_count": 3,
     "metadata": {},
     "output_type": "execute_result"
    }
   ],
   "source": [
    "type(df)"
   ]
  },
  {
   "cell_type": "code",
   "execution_count": 4,
   "id": "8469fa0a",
   "metadata": {
    "ExecuteTime": {
     "end_time": "2023-04-08T04:22:35.992084Z",
     "start_time": "2023-04-08T04:22:35.982253Z"
    }
   },
   "outputs": [
    {
     "data": {
      "text/plain": [
       "41.0"
      ]
     },
     "execution_count": 4,
     "metadata": {},
     "output_type": "execute_result"
    }
   ],
   "source": [
    "df.mean()"
   ]
  },
  {
   "cell_type": "code",
   "execution_count": 5,
   "id": "2c003b94",
   "metadata": {
    "ExecuteTime": {
     "end_time": "2023-04-08T04:22:39.099988Z",
     "start_time": "2023-04-08T04:22:39.073833Z"
    }
   },
   "outputs": [
    {
     "data": {
      "text/plain": [
       "0    41\n",
       "dtype: int64"
      ]
     },
     "execution_count": 5,
     "metadata": {},
     "output_type": "execute_result"
    }
   ],
   "source": [
    "df.mode()"
   ]
  },
  {
   "cell_type": "code",
   "execution_count": 6,
   "id": "9447a324",
   "metadata": {
    "ExecuteTime": {
     "end_time": "2023-04-08T04:22:50.562832Z",
     "start_time": "2023-04-08T04:22:50.545779Z"
    }
   },
   "outputs": [
    {
     "data": {
      "text/plain": [
       "40.5"
      ]
     },
     "execution_count": 6,
     "metadata": {},
     "output_type": "execute_result"
    }
   ],
   "source": [
    "df.median()"
   ]
  },
  {
   "cell_type": "code",
   "execution_count": 7,
   "id": "0d2deaac",
   "metadata": {
    "ExecuteTime": {
     "end_time": "2023-04-08T04:22:58.505381Z",
     "start_time": "2023-04-08T04:22:58.490815Z"
    }
   },
   "outputs": [
    {
     "data": {
      "text/plain": [
       "25.529411764705884"
      ]
     },
     "execution_count": 7,
     "metadata": {},
     "output_type": "execute_result"
    }
   ],
   "source": [
    "df.var()"
   ]
  },
  {
   "cell_type": "code",
   "execution_count": 8,
   "id": "90027d2f",
   "metadata": {
    "ExecuteTime": {
     "end_time": "2023-04-08T04:23:05.286708Z",
     "start_time": "2023-04-08T04:23:05.280704Z"
    }
   },
   "outputs": [
    {
     "data": {
      "text/plain": [
       "5.05266382858645"
      ]
     },
     "execution_count": 8,
     "metadata": {},
     "output_type": "execute_result"
    }
   ],
   "source": [
    "df.std()"
   ]
  },
  {
   "cell_type": "code",
   "execution_count": null,
   "id": "576bcead",
   "metadata": {},
   "outputs": [],
   "source": []
  }
 ],
 "metadata": {
  "kernelspec": {
   "display_name": "Python 3 (ipykernel)",
   "language": "python",
   "name": "python3"
  },
  "language_info": {
   "codemirror_mode": {
    "name": "ipython",
    "version": 3
   },
   "file_extension": ".py",
   "mimetype": "text/x-python",
   "name": "python",
   "nbconvert_exporter": "python",
   "pygments_lexer": "ipython3",
   "version": "3.9.7"
  }
 },
 "nbformat": 4,
 "nbformat_minor": 5
}
