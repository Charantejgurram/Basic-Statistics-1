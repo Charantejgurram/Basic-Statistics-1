{
 "cells": [
  {
   "cell_type": "code",
   "execution_count": 1,
   "id": "d9d2f215",
   "metadata": {
    "ExecuteTime": {
     "end_time": "2023-03-02T14:57:38.440428Z",
     "start_time": "2023-03-02T14:57:36.101151Z"
    }
   },
   "outputs": [],
   "source": [
    "from scipy import stats"
   ]
  },
  {
   "cell_type": "code",
   "execution_count": 2,
   "id": "802181d6",
   "metadata": {
    "ExecuteTime": {
     "end_time": "2023-03-02T14:57:38.455549Z",
     "start_time": "2023-03-02T14:57:38.445104Z"
    }
   },
   "outputs": [],
   "source": [
    "#n=2000 ,mean = 200 , S.D = 30 (sample data)"
   ]
  },
  {
   "cell_type": "code",
   "execution_count": 3,
   "id": "b50c1c24",
   "metadata": {
    "ExecuteTime": {
     "end_time": "2023-03-02T14:57:38.502764Z",
     "start_time": "2023-03-02T14:57:38.456695Z"
    }
   },
   "outputs": [
    {
     "data": {
      "text/plain": [
       "(143.54415570565965, 256.45584429434035)"
      ]
     },
     "execution_count": 3,
     "metadata": {},
     "output_type": "execute_result"
    }
   ],
   "source": [
    "#Confidence Interval for 94%\n",
    "stats.t.interval(0.94,1999,200,30)"
   ]
  },
  {
   "cell_type": "code",
   "execution_count": 4,
   "id": "1a5a28b1",
   "metadata": {
    "ExecuteTime": {
     "end_time": "2023-03-02T14:57:38.518934Z",
     "start_time": "2023-03-02T14:57:38.506921Z"
    }
   },
   "outputs": [
    {
     "data": {
      "text/plain": [
       "(130.15355671679083, 269.84644328320917)"
      ]
     },
     "execution_count": 4,
     "metadata": {},
     "output_type": "execute_result"
    }
   ],
   "source": [
    "#Confidence Interval for 98%\n",
    "stats.t.interval(0.98,1999,200,30)"
   ]
  },
  {
   "cell_type": "code",
   "execution_count": 5,
   "id": "d131244f",
   "metadata": {
    "ExecuteTime": {
     "end_time": "2023-03-02T14:57:38.534615Z",
     "start_time": "2023-03-02T14:57:38.522564Z"
    }
   },
   "outputs": [
    {
     "data": {
      "text/plain": [
       "(138.34730111522666, 261.6526988847733)"
      ]
     },
     "execution_count": 5,
     "metadata": {},
     "output_type": "execute_result"
    }
   ],
   "source": [
    "#Confidence Interval for 96%\n",
    "stats.t.interval(0.96,1999,200,30)"
   ]
  },
  {
   "cell_type": "code",
   "execution_count": null,
   "id": "92f51252",
   "metadata": {},
   "outputs": [],
   "source": []
  }
 ],
 "metadata": {
  "kernelspec": {
   "display_name": "Python 3 (ipykernel)",
   "language": "python",
   "name": "python3"
  },
  "language_info": {
   "codemirror_mode": {
    "name": "ipython",
    "version": 3
   },
   "file_extension": ".py",
   "mimetype": "text/x-python",
   "name": "python",
   "nbconvert_exporter": "python",
   "pygments_lexer": "ipython3",
   "version": "3.9.7"
  }
 },
 "nbformat": 4,
 "nbformat_minor": 5
}
