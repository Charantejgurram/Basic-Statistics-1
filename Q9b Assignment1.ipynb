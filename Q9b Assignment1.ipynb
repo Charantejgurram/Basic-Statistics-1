{
 "cells": [
  {
   "cell_type": "code",
   "execution_count": 3,
   "id": "5fc7eb6d",
   "metadata": {
    "ExecuteTime": {
     "end_time": "2023-02-16T16:27:57.467507Z",
     "start_time": "2023-02-16T16:27:57.461502Z"
    }
   },
   "outputs": [],
   "source": [
    "import pandas as pd \n",
    "import numpy as np "
   ]
  },
  {
   "cell_type": "code",
   "execution_count": 4,
   "id": "9be41381",
   "metadata": {
    "ExecuteTime": {
     "end_time": "2023-02-16T16:27:57.509392Z",
     "start_time": "2023-02-16T16:27:57.469478Z"
    }
   },
   "outputs": [],
   "source": [
    "df = pd.read_csv('Q9_b.csv')"
   ]
  },
  {
   "cell_type": "code",
   "execution_count": 5,
   "id": "80b13d5b",
   "metadata": {
    "ExecuteTime": {
     "end_time": "2023-02-16T16:27:57.547659Z",
     "start_time": "2023-02-16T16:27:57.512129Z"
    }
   },
   "outputs": [
    {
     "data": {
      "text/html": [
       "<div>\n",
       "<style scoped>\n",
       "    .dataframe tbody tr th:only-of-type {\n",
       "        vertical-align: middle;\n",
       "    }\n",
       "\n",
       "    .dataframe tbody tr th {\n",
       "        vertical-align: top;\n",
       "    }\n",
       "\n",
       "    .dataframe thead th {\n",
       "        text-align: right;\n",
       "    }\n",
       "</style>\n",
       "<table border=\"1\" class=\"dataframe\">\n",
       "  <thead>\n",
       "    <tr style=\"text-align: right;\">\n",
       "      <th></th>\n",
       "      <th>Unnamed: 0</th>\n",
       "      <th>SP</th>\n",
       "      <th>WT</th>\n",
       "    </tr>\n",
       "  </thead>\n",
       "  <tbody>\n",
       "    <tr>\n",
       "      <th>0</th>\n",
       "      <td>1</td>\n",
       "      <td>104.185353</td>\n",
       "      <td>28.762059</td>\n",
       "    </tr>\n",
       "    <tr>\n",
       "      <th>1</th>\n",
       "      <td>2</td>\n",
       "      <td>105.461264</td>\n",
       "      <td>30.466833</td>\n",
       "    </tr>\n",
       "    <tr>\n",
       "      <th>2</th>\n",
       "      <td>3</td>\n",
       "      <td>105.461264</td>\n",
       "      <td>30.193597</td>\n",
       "    </tr>\n",
       "    <tr>\n",
       "      <th>3</th>\n",
       "      <td>4</td>\n",
       "      <td>113.461264</td>\n",
       "      <td>30.632114</td>\n",
       "    </tr>\n",
       "    <tr>\n",
       "      <th>4</th>\n",
       "      <td>5</td>\n",
       "      <td>104.461264</td>\n",
       "      <td>29.889149</td>\n",
       "    </tr>\n",
       "    <tr>\n",
       "      <th>...</th>\n",
       "      <td>...</td>\n",
       "      <td>...</td>\n",
       "      <td>...</td>\n",
       "    </tr>\n",
       "    <tr>\n",
       "      <th>76</th>\n",
       "      <td>77</td>\n",
       "      <td>169.598513</td>\n",
       "      <td>16.132947</td>\n",
       "    </tr>\n",
       "    <tr>\n",
       "      <th>77</th>\n",
       "      <td>78</td>\n",
       "      <td>150.576579</td>\n",
       "      <td>37.923113</td>\n",
       "    </tr>\n",
       "    <tr>\n",
       "      <th>78</th>\n",
       "      <td>79</td>\n",
       "      <td>151.598513</td>\n",
       "      <td>15.769625</td>\n",
       "    </tr>\n",
       "    <tr>\n",
       "      <th>79</th>\n",
       "      <td>80</td>\n",
       "      <td>167.944460</td>\n",
       "      <td>39.423099</td>\n",
       "    </tr>\n",
       "    <tr>\n",
       "      <th>80</th>\n",
       "      <td>81</td>\n",
       "      <td>139.840817</td>\n",
       "      <td>34.948615</td>\n",
       "    </tr>\n",
       "  </tbody>\n",
       "</table>\n",
       "<p>81 rows × 3 columns</p>\n",
       "</div>"
      ],
      "text/plain": [
       "    Unnamed: 0          SP         WT\n",
       "0            1  104.185353  28.762059\n",
       "1            2  105.461264  30.466833\n",
       "2            3  105.461264  30.193597\n",
       "3            4  113.461264  30.632114\n",
       "4            5  104.461264  29.889149\n",
       "..         ...         ...        ...\n",
       "76          77  169.598513  16.132947\n",
       "77          78  150.576579  37.923113\n",
       "78          79  151.598513  15.769625\n",
       "79          80  167.944460  39.423099\n",
       "80          81  139.840817  34.948615\n",
       "\n",
       "[81 rows x 3 columns]"
      ]
     },
     "execution_count": 5,
     "metadata": {},
     "output_type": "execute_result"
    }
   ],
   "source": [
    "df"
   ]
  },
  {
   "cell_type": "markdown",
   "id": "697e2c9e",
   "metadata": {},
   "source": [
    " # Kurtosis"
   ]
  },
  {
   "cell_type": "code",
   "execution_count": 6,
   "id": "5d6bf058",
   "metadata": {
    "ExecuteTime": {
     "end_time": "2023-02-16T16:27:57.563699Z",
     "start_time": "2023-02-16T16:27:57.549664Z"
    }
   },
   "outputs": [
    {
     "data": {
      "text/plain": [
       "2.9773289437871835"
      ]
     },
     "execution_count": 6,
     "metadata": {},
     "output_type": "execute_result"
    }
   ],
   "source": [
    "#Kurtosis Value for Column SP\n",
    "df['SP'].kurt()"
   ]
  },
  {
   "cell_type": "code",
   "execution_count": 7,
   "id": "91f62de6",
   "metadata": {
    "ExecuteTime": {
     "end_time": "2023-02-16T16:27:57.578903Z",
     "start_time": "2023-02-16T16:27:57.564080Z"
    }
   },
   "outputs": [
    {
     "data": {
      "text/plain": [
       "0.9502914910300326"
      ]
     },
     "execution_count": 7,
     "metadata": {},
     "output_type": "execute_result"
    }
   ],
   "source": [
    "#Kurtosis Value for Column WT\n",
    "df['WT'].kurt()"
   ]
  },
  {
   "cell_type": "markdown",
   "id": "2528ac86",
   "metadata": {},
   "source": [
    " # Skewness"
   ]
  },
  {
   "cell_type": "code",
   "execution_count": 8,
   "id": "30d1ecf3",
   "metadata": {
    "ExecuteTime": {
     "end_time": "2023-02-16T16:27:57.595687Z",
     "start_time": "2023-02-16T16:27:57.580324Z"
    }
   },
   "outputs": [
    {
     "data": {
      "text/plain": [
       "1.6114501961773586"
      ]
     },
     "execution_count": 8,
     "metadata": {},
     "output_type": "execute_result"
    }
   ],
   "source": [
    "#Skewness Value for Column SP\n",
    "df['SP'].skew()"
   ]
  },
  {
   "cell_type": "code",
   "execution_count": 9,
   "id": "43de07a3",
   "metadata": {
    "ExecuteTime": {
     "end_time": "2023-02-16T16:27:57.613301Z",
     "start_time": "2023-02-16T16:27:57.597281Z"
    }
   },
   "outputs": [
    {
     "data": {
      "text/plain": [
       "-0.6147533255357768"
      ]
     },
     "execution_count": 9,
     "metadata": {},
     "output_type": "execute_result"
    }
   ],
   "source": [
    "#Skewness Value for Column WT\n",
    "df['WT'].skew()"
   ]
  },
  {
   "cell_type": "markdown",
   "id": "650ec313",
   "metadata": {},
   "source": [
    " # Visualization\n"
   ]
  },
  {
   "cell_type": "markdown",
   "id": "42e21100",
   "metadata": {},
   "source": [
    " # -Histogram"
   ]
  },
  {
   "cell_type": "code",
   "execution_count": 10,
   "id": "b6a4e935",
   "metadata": {
    "ExecuteTime": {
     "end_time": "2023-02-16T16:27:57.629457Z",
     "start_time": "2023-02-16T16:27:57.613698Z"
    }
   },
   "outputs": [],
   "source": [
    "import matplotlib.pyplot as plt\n",
    "import seaborn as sns"
   ]
  },
  {
   "cell_type": "code",
   "execution_count": 13,
   "id": "4ba930c0",
   "metadata": {
    "ExecuteTime": {
     "end_time": "2023-02-16T16:29:29.301708Z",
     "start_time": "2023-02-16T16:29:29.168524Z"
    }
   },
   "outputs": [
    {
     "data": {
      "image/png": "[encoded data removed]",
      "text/plain": [
       "<Figure size 432x288 with 1 Axes>"
      ]
     },
     "metadata": {
      "needs_background": "light"
     },
     "output_type": "display_data"
    }
   ],
   "source": [
    "plt.title('Histogram of SP')\n",
    "plt.hist(df['SP'])\n",
    "plt.show()"
   ]
  },
  {
   "cell_type": "code",
   "execution_count": 15,
   "id": "6e25f904",
   "metadata": {
    "ExecuteTime": {
     "end_time": "2023-02-16T16:30:27.468055Z",
     "start_time": "2023-02-16T16:30:27.341361Z"
    }
   },
   "outputs": [
    {
     "data": {
      "image/png": "[encoded data removed]",
      "text/plain": [
       "<Figure size 432x288 with 1 Axes>"
      ]
     },
     "metadata": {
      "needs_background": "light"
     },
     "output_type": "display_data"
    }
   ],
   "source": [
    "plt.title('Histogram of WT')\n",
    "plt.hist(df['WT'])\n",
    "plt.show()"
   ]
  },
  {
   "cell_type": "markdown",
   "id": "65ca146f",
   "metadata": {},
   "source": [
    " # -Boxplot"
   ]
  },
  {
   "cell_type": "code",
   "execution_count": 18,
   "id": "ae886991",
   "metadata": {
    "ExecuteTime": {
     "end_time": "2023-02-16T16:32:28.141907Z",
     "start_time": "2023-02-16T16:32:28.042657Z"
    }
   },
   "outputs": [
    {
     "data": {
      "image/png": "[encoded data removed]",
      "text/plain": [
       "<Figure size 432x288 with 1 Axes>"
      ]
     },
     "metadata": {
      "needs_background": "light"
     },
     "output_type": "display_data"
    }
   ],
   "source": [
    "plt.title('Boxplot of SP')\n",
    "plt.boxplot(df['SP'])\n",
    "plt.show()"
   ]
  },
  {
   "cell_type": "code",
   "execution_count": 19,
   "id": "c8a417d2",
   "metadata": {
    "ExecuteTime": {
     "end_time": "2023-02-16T16:32:48.151655Z",
     "start_time": "2023-02-16T16:32:48.045426Z"
    }
   },
   "outputs": [
    {
     "data": {
      "image/png": "[encoded data removed]",
      "text/plain": [
       "<Figure size 432x288 with 1 Axes>"
      ]
     },
     "metadata": {
      "needs_background": "light"
     },
     "output_type": "display_data"
    }
   ],
   "source": [
    "plt.title('Boxplot of WT')\n",
    "plt.boxplot(df['WT'])\n",
    "plt.show()"
   ]
  },
  {
   "cell_type": "code",
   "execution_count": null,
   "id": "8593a8a6",
   "metadata": {},
   "outputs": [],
   "source": []
  }
 ],
 "metadata": {
  "kernelspec": {
   "display_name": "Python 3 (ipykernel)",
   "language": "python",
   "name": "python3"
  },
  "language_info": {
   "codemirror_mode": {
    "name": "ipython",
    "version": 3
   },
   "file_extension": ".py",
   "mimetype": "text/x-python",
   "name": "python",
   "nbconvert_exporter": "python",
   "pygments_lexer": "ipython3",
   "version": "3.9.7"
  }
 },
 "nbformat": 4,
 "nbformat_minor": 5
}
